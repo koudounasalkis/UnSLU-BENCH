{
 "cells": [
  {
   "cell_type": "code",
   "execution_count": null,
   "metadata": {},
   "outputs": [],
   "source": [
    "import torch\n",
    "import pandas as pd\n",
    "import numpy as np\n",
    "import random\n",
    "\n",
    "def read_data(df_train_path, df_test_path):\n",
    "    df_train = pd.read_csv(df_train_path, index_col=None)\n",
    "    df_test = pd.read_csv(df_test_path, index_col=None)\n",
    "    \n",
    "    ## Prepare Labels\n",
    "    labels = df_train['intent'].unique()\n",
    "    label2id, id2label = dict(), dict()\n",
    "    for i, label in enumerate(labels):\n",
    "        label2id[label] = str(i)\n",
    "        id2label[str(i)] = label\n",
    "    num_labels = len(id2label)\n",
    "\n",
    "    ## Train\n",
    "    for index in range(0,len(df_train)):\n",
    "        df_train.loc[index,'label'] = label2id[df_train.loc[index,'intent']]\n",
    "    df_train['label'] = df_train['label'].astype(int)\n",
    "\n",
    "    ## Validation\n",
    "    for index in range(0,len(df_test)):\n",
    "        df_test.loc[index,'label'] = label2id[df_test.loc[index,'intent']]\n",
    "    df_test['label'] = df_test['label'].astype(int)\n",
    "\n",
    "    return df_train, df_test, num_labels, label2id, id2label, labels\n",
    "\n",
    "device = torch.device(\"cuda\" if torch.cuda.is_available() else \"cpu\")\n",
    "print(\"Device: \", device)\n",
    "\n",
    "seed = 42\n",
    "random.seed(seed)\n",
    "np.random.seed(seed)\n",
    "torch.manual_seed(seed)\n",
    "torch.cuda.manual_seed(seed)\n",
    " \n",
    "df_train, df_test, num_labels, label2id, id2label, labels = read_data(\"data_fsc/train.csv\", \"data_fsc/test.csv\")"
   ]
  },
  {
   "cell_type": "code",
   "execution_count": null,
   "metadata": {},
   "outputs": [],
   "source": [
    "df_train.label.value_counts().plot(kind='bar')"
   ]
  },
  {
   "cell_type": "code",
   "execution_count": null,
   "metadata": {},
   "outputs": [],
   "source": [
    "speakerids = df_train['speakerId'].value_counts()\n",
    "\n",
    "len(speakerids)"
   ]
  },
  {
   "cell_type": "code",
   "execution_count": null,
   "metadata": {},
   "outputs": [],
   "source": [
    "speakerids.plot(kind='bar')"
   ]
  },
  {
   "cell_type": "code",
   "execution_count": null,
   "metadata": {},
   "outputs": [],
   "source": [
    "from utils import set_seed\n",
    "\n",
    "def get_forget_retain_split(df_train, min_samples_forget=100, ratio=0.025, seed=42, speaker_col='speakerId'):\n",
    "\n",
    "    speakerids = df_train[speaker_col].value_counts()\n",
    "\n",
    "    set_seed(seed)\n",
    "\n",
    "    # sample speakers that have at least 200 samples until 2.5% of the total dataset samples are reached\n",
    "    speakers = speakerids[speakerids>min_samples_forget].index.tolist()\n",
    "    total_samples = 0 \n",
    "    speakers_to_sample = []\n",
    "    while total_samples < len(df_train)*ratio:\n",
    "        speaker = random.choice(speakers)\n",
    "        speakers_to_sample.append(speaker)\n",
    "        total_samples += speakerids[speaker]\n",
    "\n",
    "    df_forget = df_train[df_train['speakerId'].isin(speakers_to_sample)]\n",
    "    df_retain = df_train[~df_train['speakerId'].isin(speakers_to_sample)]\n",
    "    return df_forget, df_retain\n",
    "\n",
    "df_forget, df_retain = get_forget_retain_split(df_train)\n",
    "\n",
    "assert len(df_forget) + len(df_retain) == len(df_train)\n",
    "assert len(set(df_forget['speakerId']).intersection(set(df_retain['speakerId']))) == 0"
   ]
  },
  {
   "cell_type": "code",
   "execution_count": null,
   "metadata": {},
   "outputs": [],
   "source": [
    "len(df_forget) / len(df_train)"
   ]
  },
  {
   "cell_type": "code",
   "execution_count": null,
   "metadata": {},
   "outputs": [],
   "source": [
    "df_forget.label.value_counts().plot(kind='bar')"
   ]
  },
  {
   "cell_type": "code",
   "execution_count": null,
   "metadata": {},
   "outputs": [],
   "source": [
    "df_retain.label.value_counts().plot(kind='bar')"
   ]
  },
  {
   "cell_type": "code",
   "execution_count": null,
   "metadata": {},
   "outputs": [],
   "source": [
    "df_forget.to_csv('data_fsc/forget.csv', index=False)\n",
    "df_retain.to_csv('data_fsc/retain.csv', index=False)"
   ]
  }
 ],
 "metadata": {
  "kernelspec": {
   "display_name": "Python 3",
   "language": "python",
   "name": "python3"
  },
  "language_info": {
   "codemirror_mode": {
    "name": "ipython",
    "version": 3
   },
   "file_extension": ".py",
   "mimetype": "text/x-python",
   "name": "python",
   "nbconvert_exporter": "python",
   "pygments_lexer": "ipython3",
   "version": "3.11.10"
  }
 },
 "nbformat": 4,
 "nbformat_minor": 2
}
